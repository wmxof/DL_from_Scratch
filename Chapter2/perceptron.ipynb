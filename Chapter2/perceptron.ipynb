{
  "nbformat": 4,
  "nbformat_minor": 0,
  "metadata": {
    "colab": {
      "provenance": [],
      "authorship_tag": "ABX9TyMFNxHGf/pAB4h4fDBXsvkP",
      "include_colab_link": true
    },
    "kernelspec": {
      "name": "python3",
      "display_name": "Python 3"
    },
    "language_info": {
      "name": "python"
    }
  },
  "cells": [
    {
      "cell_type": "markdown",
      "metadata": {
        "id": "view-in-github",
        "colab_type": "text"
      },
      "source": [
        "<a href=\"https://colab.research.google.com/github/wmxof/DL_from_Scratch/blob/main/perceptron.ipynb\" target=\"_parent\"><img src=\"https://colab.research.google.com/assets/colab-badge.svg\" alt=\"Open In Colab\"/></a>"
      ]
    },
    {
      "cell_type": "markdown",
      "source": [
        "#**퍼셉트론**  \n",
        "================================\n",
        "#      \n",
        "#  \n",
        "퍼셉트론 = 인공뉴런  \n",
        "다수의 신호를 입력으로 받아 하나의 신호를 출력한다.\n",
        "#  \n",
        "\n"
      ],
      "metadata": {
        "id": "HlWuSlPZ80MN"
      }
    },
    {
      "cell_type": "markdown",
      "source": [
        "### **신호의 종류**  \n",
        "  \n",
        "*   x₁, x₂ : 입력 신호\n",
        "\n",
        "*   y : 출력 신호\n",
        "\n",
        "*   w₁, w₂ : 가중치   \n",
        "  \n",
        "*  Θ : 임계값  \n",
        "  \n",
        "\n",
        "\n",
        ">### 신호의 계산  \n",
        "  \n",
        "y= { 0 (w₁x₁ + w₂x₂ ≤ Θ)    \n",
        " { 1 (w₁x₁ + w₂x₂ ＞ Θ)\n",
        "\n",
        "\n",
        "---\n",
        "\n"
      ],
      "metadata": {
        "id": "PMecBevmbwQH"
      }
    },
    {
      "cell_type": "markdown",
      "source": [
        "### **논리 회로**  \n",
        "  \n",
        "*   AND : 두 입력이 모두 1일 때만 1, 그 외는 0\n",
        "\n",
        "*   OR : 두 입력이 모두 0일때만 0, 그 외는 1\n",
        "\n",
        "*   XOR : 두 입력이 다를 때만 1, 그 외는 0  \n",
        "  \n",
        "**→앞에 N이 붙는 다면 결과를 반대로 한다.**  \n",
        "#  \n",
        "![image.png](data:image/png;base64,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)"
      ],
      "metadata": {
        "id": "VEV9Bfy88zw-"
      }
    },
    {
      "cell_type": "code",
      "source": [
        "#퍼셉트론 구현(기본 게이트 구현)\n",
        "def AND(x1, x2):\n",
        "  w1, w2, theta = 0.5, 0.5, 0.7\n",
        "  tmp = x1*w1 + x2*w2\n",
        "  if tmp <= theta:\n",
        "    return 0\n",
        "  elif tmp > theta:\n",
        "    return 1\n",
        "\n",
        "print(AND(0, 0))\n",
        "print(AND(1, 0))\n",
        "print(AND(0, 1))\n",
        "print(AND(1, 1))"
      ],
      "metadata": {
        "colab": {
          "base_uri": "https://localhost:8080/"
        },
        "id": "rRVDSe9cl6BM",
        "outputId": "5a3fda06-817d-4f96-dcc7-a465ca55c285"
      },
      "execution_count": null,
      "outputs": [
        {
          "output_type": "stream",
          "name": "stdout",
          "text": [
            "0\n",
            "0\n",
            "0\n",
            "1\n"
          ]
        }
      ]
    },
    {
      "cell_type": "code",
      "source": [
        "#퍼셉트론 구현(+가중치, 편향)\n",
        "import numpy as np\n",
        "x = np.array([0, 1])\n",
        "w = np.array([0.5, 0.5])\n",
        "b = -0.7\n",
        "print(\"numpy 배열의 곱셈 : \", w*x)\n",
        "print(\"곱셈 후 각 원소의 합 : \",np.sum(w*x))\n",
        "print(\"편향치 추가 : \", np.sum(w*x) + b)\n",
        "# 약 0.2 (부동소수점 오류로 인한 오차)\n",
        "\n",
        "def AND(x1, x2):\n",
        "  x = np.array([x1, x2])\n",
        "  w = np.array([0.5, 0.5])\n",
        "  b = -0.7\n",
        "  tmp = np.sum(w*x) + b\n",
        "  if tmp <= 0:\n",
        "    return 0\n",
        "  else:\n",
        "    return 1\n",
        "\n",
        "print(\"AND 게이트\")\n",
        "print(AND(0, 0))\n",
        "print(AND(1, 0))\n",
        "print(AND(0, 1))\n",
        "print(AND(1, 1))\n",
        "\n",
        "# NAND는 AND와 가중치(w, b)만 다르다\n",
        "def NAND(x1, x2):\n",
        "  x = np.array([x1, x2])\n",
        "  w = np.array([-0.5, -0.5])\n",
        "  b = 0.7\n",
        "  tmp = np.sum(w*x) + b\n",
        "  if tmp <= 0:\n",
        "    return 0\n",
        "  else:\n",
        "    return 1\n",
        "\n",
        "print(\"NAND 게이트\")\n",
        "print(NAND(0, 0))\n",
        "print(NAND(1, 0))\n",
        "print(NAND(0, 1))\n",
        "print(NAND(1, 1))\n",
        "\n",
        "def OR(x1, x2):\n",
        "  x = np.array([x1, x2])\n",
        "  w = np.array([0.5, 0.5])\n",
        "  b = -0.2\n",
        "  tmp = np.sum(w*x) + b\n",
        "  if tmp <= 0:\n",
        "    return 0\n",
        "  else:\n",
        "    return 1\n",
        "\n",
        "print(\"OR 게이트\")\n",
        "print(OR(0, 0))\n",
        "print(OR(1, 0))\n",
        "print(OR(0, 1))\n",
        "print(OR(1, 1))"
      ],
      "metadata": {
        "colab": {
          "base_uri": "https://localhost:8080/"
        },
        "id": "lo-_fKr8Gt3c",
        "outputId": "0a88c90b-6450-4ab3-ee22-19ecec4c1da7"
      },
      "execution_count": 2,
      "outputs": [
        {
          "output_type": "stream",
          "name": "stdout",
          "text": [
            "numpy 배열의 곱셈 :  [0.  0.5]\n",
            "곱셈 후 각 원소의 합 :  0.5\n",
            "편향치 추가 :  -0.19999999999999996\n",
            "AND 게이트\n",
            "0\n",
            "0\n",
            "0\n",
            "1\n",
            "NAND 게이트\n",
            "1\n",
            "1\n",
            "1\n",
            "0\n",
            "OR 게이트\n",
            "0\n",
            "1\n",
            "1\n",
            "1\n"
          ]
        }
      ]
    },
    {
      "cell_type": "markdown",
      "source": [
        "### **퍼셉트론의 한계**  \n",
        "  \n",
        "#  \n",
        "단층 퍼셉트론으로는 배타적 논리합(XOR)게이트 구현 불가능\n",
        "   \n",
        "= 기존에 있던 게이트들을 조합하여 구현 가능하다\n",
        "#  \n",
        "\n"
      ],
      "metadata": {
        "id": "jNOz_IgnJRrV"
      }
    },
    {
      "cell_type": "code",
      "source": [
        "def XOR(x1, x2):\n",
        "  s1 = NAND(x1, x2)\n",
        "  s2 = OR(x1, x2)\n",
        "  y = AND(s1, s2)\n",
        "  return y\n",
        "\n",
        "print(\"XOR 게이트\")\n",
        "print(XOR(0, 0))\n",
        "print(XOR(1, 0))\n",
        "print(XOR(0, 1))\n",
        "print(XOR(1, 1))"
      ],
      "metadata": {
        "colab": {
          "base_uri": "https://localhost:8080/"
        },
        "id": "so5jtSuHJwj9",
        "outputId": "940981c1-257e-4de3-e8a0-f26cf54f3ce3"
      },
      "execution_count": 4,
      "outputs": [
        {
          "output_type": "stream",
          "name": "stdout",
          "text": [
            "XOR 게이트\n",
            "0\n",
            "1\n",
            "1\n",
            "0\n"
          ]
        }
      ]
    },
    {
      "cell_type": "markdown",
      "source": [
        "### **정리**  \n",
        "  \n",
        "*   퍼셉트론은 입출력을 갖춘 알고리즘이다. 입력을 주면 정해진 규칙을 따른 값을 출력한다.  \n",
        "#  \n",
        "*   y퍼셉트론에서는 '가중치'와 '편향'을 매개변수로 설정한다.  \n",
        "#  \n",
        "*   퍼셉트론으로는 AND, OR 게이트 등의 논리 회로를 표현할 수 있다.  \n",
        "  #  \n",
        "*  XOR 게이트는 단층 퍼셉트론으로는 표현할 수 없다.  \n",
        "#  \n",
        "*   2층 퍼셉트론을 이용하면 XOR 게이트를 표현할 수 있다.  \n",
        "#  \n",
        "*   단층 퍼셉트론은 직선형 영역만 표현할 수 있고, 다층 퍼셉트론은 비선형 영역도 표현할 수 있다.   \n",
        "#  \n",
        "*   다층 퍼셉트론은 (이론상) 컴퓨터를 표현할 수 있다.   \n",
        "#  \n"
      ],
      "metadata": {
        "id": "TNe4_7qILyKb"
      }
    }
  ]
}
