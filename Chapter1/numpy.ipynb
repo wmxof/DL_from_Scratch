{
  "nbformat": 4,
  "nbformat_minor": 0,
  "metadata": {
    "colab": {
      "provenance": [],
      "authorship_tag": "ABX9TyObGRU0QBGPDk7vL8dFnk68",
      "include_colab_link": true
    },
    "kernelspec": {
      "name": "python3",
      "display_name": "Python 3"
    },
    "language_info": {
      "name": "python"
    }
  },
  "cells": [
    {
      "cell_type": "markdown",
      "metadata": {
        "id": "view-in-github",
        "colab_type": "text"
      },
      "source": [
        "<a href=\"https://colab.research.google.com/github/wmxof/DL_from_Scratch/blob/main/DL_Scratch.ipynb\" target=\"_parent\"><img src=\"https://colab.research.google.com/assets/colab-badge.svg\" alt=\"Open In Colab\"/></a>"
      ]
    },
    {
      "cell_type": "markdown",
      "source": [
        "#**numpy 라이브러리**  \n",
        "================================\n",
        "#      \n",
        "#  \n",
        "numpy 라이브러리 import"
      ],
      "metadata": {
        "id": "Gcnrsh4PlJfv"
      }
    },
    {
      "cell_type": "code",
      "execution_count": null,
      "metadata": {
        "id": "x8flQMNElBNx"
      },
      "outputs": [],
      "source": [
        "import numpy as np"
      ]
    },
    {
      "cell_type": "markdown",
      "source": [
        "###**numpy 1차원 배열 생성 : np.array()**\n",
        "---------------------------------------------------\n",
        "\n",
        "> 리스트를 인수로 받아 배열로 반환.\n",
        "\n",
        "> 이때, 파라미터(인자) 값으로 배열 및 상수를 넘길 수 있음.\n"
      ],
      "metadata": {
        "id": "42HLMVsPlRLd"
      }
    },
    {
      "cell_type": "markdown",
      "source": [
        "*   파라미터 배열 : n차원 형태의 배열 반환.\n",
        "\n",
        "\n",
        "\n",
        "```\n",
        "np.array([1,2],[3,4,5],[6,7])\n",
        "```\n",
        "\n",
        "\n",
        "*   파라미터 상수(1차원 리스트) : 1차원 형태의 배열 반환.  <br/>\n",
        "\n",
        "\n",
        "\n",
        "```\n",
        "np.array(0)\n",
        "np.array([1,3,4])\n",
        "```\n",
        "\n"
      ],
      "metadata": {
        "id": "Pwo1B0sc0wP4"
      }
    },
    {
      "cell_type": "code",
      "source": [
        "x = np.array([1.0, 2.0, 3.0])\n",
        "\n",
        "print(x)\n",
        "type(x)"
      ],
      "metadata": {
        "colab": {
          "base_uri": "https://localhost:8080/"
        },
        "id": "y0ga-JgkmlD7",
        "outputId": "b71a767a-5ef5-4247-b678-09cf334f6bf7"
      },
      "execution_count": null,
      "outputs": [
        {
          "output_type": "stream",
          "name": "stdout",
          "text": [
            "[1. 2. 3.]\n"
          ]
        },
        {
          "output_type": "execute_result",
          "data": {
            "text/plain": [
              "numpy.ndarray"
            ]
          },
          "metadata": {},
          "execution_count": 5
        }
      ]
    },
    {
      "cell_type": "markdown",
      "source": [
        "###**넘파이의 산술 연산**    \n",
        "---------------------------------------------------\n",
        "  \n",
        "브로드캐스트 : 스칼라값과의 계산이 넘파이 배열의 원소별로 한 번씩 수행되는 것."
      ],
      "metadata": {
        "id": "iQlDMTqioaLr"
      }
    },
    {
      "cell_type": "code",
      "source": [
        "x = np.array([1.0, 2.0, 3.0])\n",
        "y = np.array([2.0, 4.0, 6.0])\n",
        "\n",
        "print(x+y)\n",
        "print(x-y)\n",
        "print(x*y)\n",
        "print(x/y)"
      ],
      "metadata": {
        "colab": {
          "base_uri": "https://localhost:8080/"
        },
        "id": "96Pjsj3Vol5F",
        "outputId": "5165e046-8d5e-4f23-c0d3-3e65eb431315"
      },
      "execution_count": null,
      "outputs": [
        {
          "output_type": "stream",
          "name": "stdout",
          "text": [
            "[3. 6. 9.]\n",
            "[-1. -2. -3.]\n",
            "[ 2.  8. 18.]\n",
            "[0.5 0.5 0.5]\n"
          ]
        }
      ]
    },
    {
      "cell_type": "markdown",
      "source": [
        "###**브로드캐스트**\n",
        "---------------------------------------------------\n",
        "#  \n",
        "브로드캐스트는 스칼라값 뿐만 아니라,  \n",
        "서로 다른 차원의 배열끼리도 계산이 가능하다.  \n",
        "#  \n",
        "**단, 차원의 짝이 맞을 때,  \n",
        "즉 한 배열을 곱해서 다른 배열 크기로 만들 수 있을 때만 사용 가능하다.**"
      ],
      "metadata": {
        "id": "4L8Xo1eqzhuw"
      }
    },
    {
      "cell_type": "code",
      "source": [
        "A = np.array([[1, 2], [3, 4]])\n",
        "B = np.array([[10, 20]])\n",
        "\n",
        "print(A*B)"
      ],
      "metadata": {
        "colab": {
          "base_uri": "https://localhost:8080/"
        },
        "id": "Bo0UZrjFzgPg",
        "outputId": "b73934c9-1ddd-4d6a-ceea-9cba13b68157"
      },
      "execution_count": null,
      "outputs": [
        {
          "output_type": "stream",
          "name": "stdout",
          "text": [
            "[[10 40]\n",
            " [30 80]]\n"
          ]
        }
      ]
    },
    {
      "cell_type": "markdown",
      "source": [
        "###**원소 접근**\n",
        "---------------------------------------------------\n",
        "#  \n",
        "일반 배열처럼 0부터 인덱스에 접근할 수 있다.  \n",
        "혹은 for문으로 접근 가능하다."
      ],
      "metadata": {
        "id": "5oRl9YJizf_Y"
      }
    },
    {
      "cell_type": "code",
      "source": [
        "A = np.array([[51, 55], [14, 19], [0, 4]])\n",
        "\n",
        "print(A[0])\n",
        "print(A[0][1])\n",
        "\n",
        "for row in A:\n",
        "  print(row)"
      ],
      "metadata": {
        "colab": {
          "base_uri": "https://localhost:8080/"
        },
        "id": "a9t8lHmg24Gg",
        "outputId": "38af5309-95ea-42d7-8192-f672e4a6609d"
      },
      "execution_count": null,
      "outputs": [
        {
          "output_type": "stream",
          "name": "stdout",
          "text": [
            "[51 55]\n",
            "55\n",
            "[51 55]\n",
            "[14 19]\n",
            "[0 4]\n"
          ]
        }
      ]
    },
    {
      "cell_type": "markdown",
      "source": [
        "###**알아두면 좋은 함수**\n",
        "---------------------------------------------------\n",
        "#  \n",
        ">.flatten() : N차원 배열 A를 1차원 배열로 변환하는 함수\n",
        "```\n",
        "A = A.flatten()\n",
        "print(A)\n",
        "```\n",
        "#  \n",
        ">A[np.array([])] : 이미 존재하는 배열과 함께 np.array 사용 시, np.array의 파라미터 값의 A의 원소 출력\n",
        "```\n",
        "A[np.array([0, 2, 4)]\n",
        "```\n",
        "또한, 위 방법으로 일정 이상의 값만 받아올 수 있다.\n",
        "```\n",
        "A[A>15]\n",
        "```"
      ],
      "metadata": {
        "id": "YVrxIay83SQn"
      }
    },
    {
      "cell_type": "code",
      "source": [
        "A = np.array([[51, 55], [14, 19], [0, 4]])\n",
        "print(A)\n",
        "A = A.flatten()\n",
        "print()\n",
        "print(\"A.flatten() : \", A)\n",
        "print(\"A[np.array([])] 활용: \",A[np.array([0, 2, 4])])\n",
        "print(A[A>15])"
      ],
      "metadata": {
        "colab": {
          "base_uri": "https://localhost:8080/"
        },
        "id": "YIdshvI63enC",
        "outputId": "af07d69a-61ca-4e04-ae54-c4f9e856a99b"
      },
      "execution_count": null,
      "outputs": [
        {
          "output_type": "stream",
          "name": "stdout",
          "text": [
            "[[51 55]\n",
            " [14 19]\n",
            " [ 0  4]]\n",
            "\n",
            "A.flatten() :  [51 55 14 19  0  4]\n",
            "A[np.array([])] 활용:  [51 14  0]\n",
            "[51 55 19]\n"
          ]
        }
      ]
    }
  ]
}
